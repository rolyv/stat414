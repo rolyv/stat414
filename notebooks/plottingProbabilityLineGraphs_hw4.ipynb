{
 "cells": [
  {
   "cell_type": "code",
   "execution_count": 46,
   "metadata": {
    "collapsed": false
   },
   "outputs": [
    {
     "data": {
      "image/png": "[encoded data removed]",
      "text/plain": [
       "<matplotlib.figure.Figure at 0x7f7b554ea850>"
      ]
     },
     "metadata": {},
     "output_type": "display_data"
    }
   ],
   "source": [
    "%matplotlib inline\n",
    "import numpy as np\n",
    "import matplotlib.mlab as mlab\n",
    "import matplotlib.pyplot as plt\n",
    "\n",
    "x = [num for num in range(10)]\n",
    "relative_frequencies = np.array([.0733,.0933,.0867,.0800,.1067,.0867,.1467,.1067,.1200,.1])\n",
    "probabilities = [.1 for _ in range(10)]\n",
    "bins = [num-.5 for num in range(11)]\n",
    "\n",
    "plt.hist(x, bins, alpha=0.5, weights=probabilities)\n",
    "plt.axis([-.5,9.5,0,0.15])\n",
    "\n",
    "y = np.array([.1 for _ in range(11)])\n",
    "#plt.hist(x, bins, alpha=0.5, facecolor='none', ec='r', ls='dashed', weights=relative_frequencies)\n",
    "\n",
    "plt.show()\n",
    "\n",
    "#plt.savefig(\"images/4c-probabilityHistogram-and-relativeFrequencies.png\")"
   ]
  },
  {
   "cell_type": "code",
   "execution_count": 6,
   "metadata": {
    "collapsed": false
   },
   "outputs": [
    {
     "data": {
      "image/png": "[encoded data removed]",
      "text/plain": [
       "<matplotlib.figure.Figure at 0x7f12aa8e34d0>"
      ]
     },
     "metadata": {},
     "output_type": "display_data"
    }
   ],
   "source": [
    "%matplotlib inline\n",
    "import numpy as np\n",
    "from scipy.special import comb\n",
    "import matplotlib.mlab as mlab\n",
    "import matplotlib.pyplot as plt\n",
    "\n",
    "x = [num for num in range(3,51)]\n",
    "bins = [num for num in range(3,52)]\n",
    "\n",
    "probabilities = [comb(num-1, 2)*np.power(.25,3)*np.power(.75,num-3) for num in range(3,51)]\n",
    "\n",
    "plt.hist(x, bins, width=.025, ec='g', weights=probabilities)\n",
    "plt.axis([2,51,0,.08])\n",
    "\n",
    "#plt.hist(x, bins, alpha=0.5, facecolor='none', ec='r', ls='dashed', weights=relative_frequencies)\n",
    "\n",
    "plt.show()"
   ]
  },
  {
   "cell_type": "code",
   "execution_count": 8,
   "metadata": {
    "collapsed": false
   },
   "outputs": [
    {
     "data": {
      "text/plain": [
       "[0.015625,\n",
       " 0.03515625,\n",
       " 0.052734375,\n",
       " 0.06591796875,\n",
       " 0.07415771484375,\n",
       " 0.0778656005859375,\n",
       " 0.0778656005859375,\n",
       " 0.075084686279296875,\n",
       " 0.07039189338684082,\n",
       " 0.064525902271270752,\n",
       " 0.058073312044143677,\n",
       " 0.05147407203912735,\n",
       " 0.045039813034236431,\n",
       " 0.038976761279627681,\n",
       " 0.033408652525395155,\n",
       " 0.028397354646585882,\n",
       " 0.023960267983056838,\n",
       " 0.02008434227991529,\n",
       " 0.016736951899929409,\n",
       " 0.01387405223283622,\n",
       " 0.011446093092089882,\n",
       " 0.0094021478970738315,\n",
       " 0.0076926664612422258,\n",
       " 0.0062711954847083362,\n",
       " 0.0050953463313255232,\n",
       " 0.0041272305283736738,\n",
       " 0.003333532349840275,\n",
       " 0.0026853455040379993,\n",
       " 0.0021578669228876782,\n",
       " 0.0017300139985220178,\n",
       " 0.0013840111988176142,\n",
       " 0.0011049766829269662,\n",
       " 0.0008805282942074261,\n",
       " 0.00070042023402863446,\n",
       " 0.00055621606819920963,\n",
       " 0.00044099988264365909,\n",
       " 0.00034912490709289686,\n",
       " 0.00027599739276938466,\n",
       " 0.00021789267850214574,\n",
       " 0.00017179999651130724,\n",
       " 0.00013529249725265444,\n",
       " 0.0001064190984487343,\n",
       " 8.3615005924005513e-05,\n",
       " 6.5628056975236882e-05,\n",
       " 5.1458362855583465e-05,\n",
       " 4.0309050903540385e-05,\n",
       " 3.1546213750596825e-05,\n",
       " 2.4666454368817728e-05]"
      ]
     },
     "execution_count": 8,
     "metadata": {},
     "output_type": "execute_result"
    }
   ],
   "source": [
    "import numpy as np\n",
    "from scipy.special import comb\n",
    "\n",
    "probabilities = [comb(num-1, 2)*np.power(.25,3)*np.power(.75,num-3) for num in range(3,51)]\n",
    "probabilities"
   ]
  },
  {
   "cell_type": "code",
   "execution_count": 4,
   "metadata": {
    "collapsed": false
   },
   "outputs": [
    {
     "data": {
      "text/plain": [
       "32"
      ]
     },
     "execution_count": 4,
     "metadata": {},
     "output_type": "execute_result"
    }
   ],
   "source": [
    "import numpy as np\n",
    "\n",
    "np.power(2,5)"
   ]
  },
  {
   "cell_type": "code",
   "execution_count": null,
   "metadata": {
    "collapsed": true
   },
   "outputs": [],
   "source": []
  }
 ],
 "metadata": {
  "kernelspec": {
   "display_name": "Python 2",
   "language": "python",
   "name": "python2"
  },
  "language_info": {
   "codemirror_mode": {
    "name": "ipython",
    "version": 2
   },
   "file_extension": ".py",
   "mimetype": "text/x-python",
   "name": "python",
   "nbconvert_exporter": "python",
   "pygments_lexer": "ipython2",
   "version": "2.7.11"
  }
 },
 "nbformat": 4,
 "nbformat_minor": 0
}
